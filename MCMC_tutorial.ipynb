{
 "cells": [
  {
   "cell_type": "code",
   "execution_count": 1,
   "metadata": {},
   "outputs": [
    {
     "name": "stderr",
     "output_type": "stream",
     "text": [
      "2024-07-30 08:17:09.172828: I tensorflow/core/util/port.cc:111] oneDNN custom operations are on. You may see slightly different numerical results due to floating-point round-off errors from different computation orders. To turn them off, set the environment variable `TF_ENABLE_ONEDNN_OPTS=0`.\n",
      "2024-07-30 08:17:10.627266: E tensorflow/compiler/xla/stream_executor/cuda/cuda_dnn.cc:9342] Unable to register cuDNN factory: Attempting to register factory for plugin cuDNN when one has already been registered\n",
      "2024-07-30 08:17:10.627296: E tensorflow/compiler/xla/stream_executor/cuda/cuda_fft.cc:609] Unable to register cuFFT factory: Attempting to register factory for plugin cuFFT when one has already been registered\n",
      "2024-07-30 08:17:10.633381: E tensorflow/compiler/xla/stream_executor/cuda/cuda_blas.cc:1518] Unable to register cuBLAS factory: Attempting to register factory for plugin cuBLAS when one has already been registered\n",
      "2024-07-30 08:17:11.137157: I tensorflow/core/platform/cpu_feature_guard.cc:182] This TensorFlow binary is optimized to use available CPU instructions in performance-critical operations.\n",
      "To enable the following instructions: AVX2 AVX_VNNI FMA, in other operations, rebuild TensorFlow with the appropriate compiler flags.\n",
      "2024-07-30 08:17:13.289153: W tensorflow/compiler/tf2tensorrt/utils/py_utils.cc:38] TF-TRT Warning: Could not find TensorRT\n"
     ]
    }
   ],
   "source": [
    "import os\n",
    "\n",
    "import numpy as np\n",
    "import tensorflow as tf\n",
    "import tensorflow_probability as tfp\n",
    "\n",
    "import time\n",
    "\n",
    "import matplotlib.pyplot as plt\n"
   ]
  },
  {
   "cell_type": "markdown",
   "metadata": {},
   "source": [
    "# Synthetic Data"
   ]
  },
  {
   "cell_type": "code",
   "execution_count": 2,
   "metadata": {},
   "outputs": [
    {
     "name": "stderr",
     "output_type": "stream",
     "text": [
      "2024-07-29 22:01:35.158290: I tensorflow/compiler/xla/stream_executor/cuda/cuda_gpu_executor.cc:880] could not open file to read NUMA node: /sys/bus/pci/devices/0000:01:00.0/numa_node\n",
      "Your kernel may have been built without NUMA support.\n",
      "2024-07-29 22:01:35.590110: I tensorflow/compiler/xla/stream_executor/cuda/cuda_gpu_executor.cc:880] could not open file to read NUMA node: /sys/bus/pci/devices/0000:01:00.0/numa_node\n",
      "Your kernel may have been built without NUMA support.\n",
      "2024-07-29 22:01:35.590145: I tensorflow/compiler/xla/stream_executor/cuda/cuda_gpu_executor.cc:880] could not open file to read NUMA node: /sys/bus/pci/devices/0000:01:00.0/numa_node\n",
      "Your kernel may have been built without NUMA support.\n",
      "2024-07-29 22:01:35.598891: I tensorflow/compiler/xla/stream_executor/cuda/cuda_gpu_executor.cc:880] could not open file to read NUMA node: /sys/bus/pci/devices/0000:01:00.0/numa_node\n",
      "Your kernel may have been built without NUMA support.\n",
      "2024-07-29 22:01:35.598929: I tensorflow/compiler/xla/stream_executor/cuda/cuda_gpu_executor.cc:880] could not open file to read NUMA node: /sys/bus/pci/devices/0000:01:00.0/numa_node\n",
      "Your kernel may have been built without NUMA support.\n",
      "2024-07-29 22:01:35.598941: I tensorflow/compiler/xla/stream_executor/cuda/cuda_gpu_executor.cc:880] could not open file to read NUMA node: /sys/bus/pci/devices/0000:01:00.0/numa_node\n",
      "Your kernel may have been built without NUMA support.\n",
      "2024-07-29 22:01:35.785890: I tensorflow/compiler/xla/stream_executor/cuda/cuda_gpu_executor.cc:880] could not open file to read NUMA node: /sys/bus/pci/devices/0000:01:00.0/numa_node\n",
      "Your kernel may have been built without NUMA support.\n",
      "2024-07-29 22:01:35.785967: I tensorflow/compiler/xla/stream_executor/cuda/cuda_gpu_executor.cc:880] could not open file to read NUMA node: /sys/bus/pci/devices/0000:01:00.0/numa_node\n",
      "Your kernel may have been built without NUMA support.\n",
      "2024-07-29 22:01:35.785974: I tensorflow/core/common_runtime/gpu/gpu_device.cc:1977] Could not identify NUMA node of platform GPU id 0, defaulting to 0.  Your kernel may not have been built with NUMA support.\n",
      "2024-07-29 22:01:35.785997: I tensorflow/compiler/xla/stream_executor/cuda/cuda_gpu_executor.cc:880] could not open file to read NUMA node: /sys/bus/pci/devices/0000:01:00.0/numa_node\n",
      "Your kernel may have been built without NUMA support.\n",
      "2024-07-29 22:01:35.786015: I tensorflow/core/common_runtime/gpu/gpu_device.cc:1886] Created device /job:localhost/replica:0/task:0/device:GPU:0 with 5520 MB memory:  -> device: 0, name: NVIDIA GeForce RTX 4070 Laptop GPU, pci bus id: 0000:01:00.0, compute capability: 8.9\n"
     ]
    }
   ],
   "source": [
    "n = 5000\n",
    "\n",
    "X_ij    = tf.convert_to_tensor(np.load(\"data/synthetic/synth_X_ij_\"+str(n)+\".npy\"), dtype = tf.int32)\n",
    "one_n_j = tf.convert_to_tensor(np.load(\"data/synthetic/NY_one_n_j.npy\"), dtype = tf.float32)"
   ]
  },
  {
   "cell_type": "markdown",
   "metadata": {},
   "source": [
    "# HDP with Monta Carlo/sampling"
   ]
  },
  {
   "cell_type": "markdown",
   "metadata": {},
   "source": [
    "Set seed and parameters"
   ]
  },
  {
   "cell_type": "code",
   "execution_count": 3,
   "metadata": {},
   "outputs": [],
   "source": [
    "seed_to_use = 123+n\n",
    "\n",
    "tf.random.set_seed((seed_to_use+n))\n",
    "np.random.seed((seed_to_use+n))\n",
    "\n",
    "K_initial = 100\n",
    "K_max = 2*K_initial\n",
    "\n",
    "a_0, b_0 = 2., 1.\n",
    "a_1, b_1 = 2., 1. \n",
    "a_2, b_2 = 1., 1. \n",
    "sigma = 0.1\n",
    "\n",
    "prior_MCMC = a_0, b_0, a_1, b_1, a_2, b_2, sigma\n",
    "\n",
    "batch_size = 2**11\n",
    "N = 712174\n",
    "\n",
    "MCMC_iterations = 100"
   ]
  },
  {
   "cell_type": "code",
   "execution_count": 4,
   "metadata": {},
   "outputs": [],
   "source": [
    "os.chdir(\"scripts/\")\n",
    "%run -i BNP.py\n",
    "os.chdir(\"../\")"
   ]
  },
  {
   "cell_type": "markdown",
   "metadata": {},
   "source": [
    "Run 2000 iterations of the MCMC (it might take more than 5min)"
   ]
  },
  {
   "cell_type": "code",
   "execution_count": 5,
   "metadata": {},
   "outputs": [
    {
     "name": "stderr",
     "output_type": "stream",
     "text": [
      "2024-07-29 22:01:36.267992: I tensorflow/tsl/platform/default/subprocess.cc:304] Start cannot spawn child process: No such file or directory\n",
      "2024-07-29 22:01:39.068057: I tensorflow/compiler/xla/service/service.cc:168] XLA service 0xa835f50 initialized for platform CUDA (this does not guarantee that XLA will be used). Devices:\n",
      "2024-07-29 22:01:39.068094: I tensorflow/compiler/xla/service/service.cc:176]   StreamExecutor device (0): NVIDIA GeForce RTX 4070 Laptop GPU, Compute Capability 8.9\n",
      "2024-07-29 22:01:39.076609: I tensorflow/compiler/mlir/tensorflow/utils/dump_mlir_util.cc:269] disabling MLIR crash reproducer, set env var `MLIR_CRASH_REPRODUCER_DIRECTORY` to enable.\n",
      "2024-07-29 22:01:39.153295: I tensorflow/compiler/xla/stream_executor/cuda/cuda_dnn.cc:442] Loaded cuDNN version 8907\n",
      "warning: Linking two modules of different target triples: 'LLVMDialectModule' is 'nvptx64-nvidia-gpulibs' whereas '' is 'nvptx64-nvidia-cuda'\n",
      "\n",
      "2024-07-29 22:01:39.781132: I ./tensorflow/compiler/jit/device_compiler.h:186] Compiled cluster using XLA!  This line is logged at most once for the lifetime of the process.\n",
      "2024-07-29 22:01:55.792906: I tensorflow/compiler/xla/stream_executor/gpu/asm_compiler.cc:328] ptxas warning : Registers are spilled to local memory in function 'fusion_209', 8 bytes spill stores, 8 bytes spill loads\n",
      "\n"
     ]
    },
    {
     "name": "stdout",
     "output_type": "stream",
     "text": [
      "Batch number 0\n",
      "Batch number 1\n",
      "Batch number 2\n",
      "Batch number 3\n",
      "Batch number 4\n",
      "Batch number 5\n",
      "Batch number 6\n",
      "Batch number 7\n",
      "Batch number 8\n",
      "Batch number 9\n",
      "Batch number 10\n",
      "Batch number 11\n",
      "Batch number 12\n",
      "Batch number 13\n",
      "Batch number 14\n",
      "Batch number 15\n",
      "Batch number 16\n",
      "Batch number 17\n",
      "Batch number 18\n"
     ]
    }
   ],
   "source": [
    "seed_MCMC_start, seed_MCMC_after_start  = tfp.random.split_seed( seed_to_use, n=2, salt='seed_MCMC_start_'+str(n))\n",
    "\n",
    "output = BNP_MCMC_from_start(X_ij, one_n_j, K_initial, K_max, prior_MCMC, MCMC_iterations, seed_MCMC_start, \"multiple\", \"fixed a,b\")\n",
    "\n",
    "initialization_MCMC = tuple(elem[-1,...] for elem in output)\n",
    "\n",
    "seed_MCMC_before_tau, seed_MCMC_after_tau  = tfp.random.split_seed( seed_MCMC_after_start, n=2, salt='seed_MCMC_before_after_tau_'+str(n))\n",
    "\n",
    "before_tau_iterations = 19\n",
    "seed_MCMC_before_tau_splitted  = tfp.random.split_seed( seed_MCMC_before_tau, n=before_tau_iterations, salt='seed_MCMC_before_tau_'+str(n))\n",
    "for i in range(before_tau_iterations):\n",
    "\n",
    "    print(\"Batch number \"+str(i))\n",
    "\n",
    "    output = BNP_MCMC_initialized(X_ij, one_n_j, K_max, prior_MCMC, initialization_MCMC, MCMC_iterations, seed_MCMC_before_tau_splitted[i], \"multiple\", \"fixed a,b\")\n",
    "    initialization_MCMC = tuple(elem[-1,...] for elem in output)"
   ]
  },
  {
   "cell_type": "markdown",
   "metadata": {},
   "source": [
    "Change _\"Monte Carlo\"_ to _\"sampling\"_ in _BNP_MCMC_initialized_tau_ if you want to use sampling to estimate $\\tau$. Remark that using sampling is significantly slower! It might take more than 1min to run."
   ]
  },
  {
   "cell_type": "code",
   "execution_count": 6,
   "metadata": {},
   "outputs": [
    {
     "name": "stdout",
     "output_type": "stream",
     "text": [
      "Tau Batch number 0\n",
      "Tau Batch number 1\n",
      "Tau Batch number 2\n",
      "Tau Batch number 3\n",
      "Tau Batch number 4\n"
     ]
    }
   ],
   "source": [
    "\n",
    "after_tau_iterations = 5\n",
    "seed_MCMC_after_tau_splitted  = tfp.random.split_seed( seed_MCMC_after_tau, n=after_tau_iterations, salt='seed_MCMC_after_tau_'+str(n))\n",
    "for i in range(after_tau_iterations):\n",
    "    \n",
    "    print(\"Tau Batch number \"+str(i))\n",
    "\n",
    "    tau_output = BNP_MCMC_initialized_tau(X_ij, one_n_j, K_max, prior_MCMC, initialization_MCMC, N, MCMC_iterations, batch_size, seed_MCMC_after_tau_splitted[i], \"multiple\", \"fixed a,b\", \"Monte Carlo\")\n",
    "    initialization_MCMC = tuple(elem[-1,...] for elem in tau_output[0])\n",
    "\n",
    "\n",
    "\n",
    "    \n"
   ]
  },
  {
   "cell_type": "code",
   "execution_count": 16,
   "metadata": {},
   "outputs": [
    {
     "data": {
      "text/plain": [
       "<matplotlib.lines.Line2D at 0x7ff8cc309c10>"
      ]
     },
     "execution_count": 16,
     "metadata": {},
     "output_type": "execute_result"
    },
    {
     "data": {
      "image/png": "[encoded data removed]",
      "text/plain": [
       "<Figure size 640x480 with 1 Axes>"
      ]
     },
     "metadata": {},
     "output_type": "display_data"
    }
   ],
   "source": [
    "plt.hist(tau_output[1], 15, density = True)\n",
    "plt.axvline(x = 28, color = \"red\")"
   ]
  },
  {
   "cell_type": "markdown",
   "metadata": {},
   "source": [
    "# Algorithm from Manrique-Vallier and Reiter 2012"
   ]
  },
  {
   "cell_type": "code",
   "execution_count": 8,
   "metadata": {},
   "outputs": [],
   "source": [
    "os.chdir(\"scripts/\")\n",
    "%run -i MVR.py\n",
    "os.chdir(\"../\")"
   ]
  },
  {
   "cell_type": "code",
   "execution_count": 9,
   "metadata": {},
   "outputs": [],
   "source": [
    "a_0, b_0 = 2, 1\n",
    "\n",
    "K = 2\n",
    "\n",
    "sigma = 0.095\n",
    "batch_size = 2**13\n",
    "N = 1150934\n",
    "\n",
    "MCMC_iterations = 100\n",
    "\n",
    "seed_to_use = 123+n\n",
    "\n",
    "tf.random.set_seed((seed_to_use+n))\n",
    "np.random.seed((seed_to_use+n))"
   ]
  },
  {
   "cell_type": "markdown",
   "metadata": {},
   "source": [
    "Run the algorithm from Manrique-Vallier and Reiter 2012. It might take more than 5min."
   ]
  },
  {
   "cell_type": "code",
   "execution_count": 10,
   "metadata": {},
   "outputs": [
    {
     "name": "stdout",
     "output_type": "stream",
     "text": [
      "Batch number 0\n",
      "Batch number 1\n",
      "Batch number 2\n",
      "Batch number 3\n",
      "Batch number 4\n",
      "Batch number 5\n",
      "Batch number 6\n",
      "Batch number 7\n",
      "Batch number 8\n",
      "Batch number 9\n",
      "Batch number 10\n",
      "Batch number 11\n",
      "Batch number 12\n",
      "Batch number 13\n",
      "Batch number 14\n",
      "Batch number 15\n",
      "Batch number 16\n",
      "Batch number 17\n",
      "Batch number 18\n",
      "Tau Batch number 0\n",
      "Tau Batch number 1\n",
      "Tau Batch number 2\n",
      "Tau Batch number 3\n",
      "Tau Batch number 4\n"
     ]
    }
   ],
   "source": [
    "MCMC_Z_ij_init, MCMC_theta_j_k_init, MCMC_g_i_init, MCMC_g_0_init, nr_accepted_init = MVR_MCMC_from_start(X_ij, one_n_j, K, a_0, b_0, sigma, MCMC_iterations, seed_MCMC_start)\n",
    "initialization_MCMC = MCMC_Z_ij_init[-1,...], MCMC_theta_j_k_init[-1,...], MCMC_g_i_init[-1,...], MCMC_g_0_init[-1,...], nr_accepted_init[-1,...]\n",
    "\n",
    "seed_MCMC_before_tau, seed_MCMC_after_tau  = tfp.random.split_seed( seed_MCMC_after_start, n=2, salt='seed_MCMC_before_after_tau_'+str(n)+str(0))\n",
    "\n",
    "before_tau_iterations = 19\n",
    "seed_MCMC_before_tau_splitted  = tfp.random.split_seed( seed_MCMC_before_tau, n=before_tau_iterations, salt='seed_MCMC_before_tau_'+str(n)+str(0))\n",
    "for i in range(before_tau_iterations):\n",
    "\n",
    "    print(\"Batch number \"+str(i))\n",
    "\n",
    "    MCMC_Z_ij, MCMC_theta_j_k, MCMC_g_i, MCMC_g_0, nr_accepted = MVR_MCMC_initialized(X_ij, one_n_j, K, a_0, b_0, sigma, initialization_MCMC, MCMC_iterations, seed_MCMC_before_tau_splitted[i])\n",
    "    initialization_MCMC = MCMC_Z_ij[-1,...], MCMC_theta_j_k[-1,...], MCMC_g_i[-1,...], MCMC_g_0[-1,...], nr_accepted[-1,...]\n",
    "\n",
    "after_tau_iterations = 5\n",
    "seed_MCMC_after_tau_splitted  = tfp.random.split_seed( seed_MCMC_after_tau, n=after_tau_iterations, salt='seed_MCMC_after_tau_'+str(n))\n",
    "for i in range(after_tau_iterations):\n",
    "    \n",
    "    print(\"Tau Batch number \"+str(i))\n",
    "    \n",
    "    (MCMC_Z_ij, MCMC_theta_j_k, MCMC_g_i, MCMC_g_0, nr_accepted), tau = MVR_MCMC_initialized_tau(X_ij, one_n_j, K, a_0, b_0, sigma, initialization_MCMC, N, MCMC_iterations, batch_size, seed_MCMC_after_tau_splitted[i])\n",
    "    initialization_MCMC = MCMC_Z_ij[-1,...], MCMC_theta_j_k[-1,...], MCMC_g_i[-1,...], MCMC_g_0[-1,...], nr_accepted[-1,...]"
   ]
  },
  {
   "cell_type": "code",
   "execution_count": 15,
   "metadata": {},
   "outputs": [
    {
     "data": {
      "text/plain": [
       "<matplotlib.lines.Line2D at 0x7ff9901aebd0>"
      ]
     },
     "execution_count": 15,
     "metadata": {},
     "output_type": "execute_result"
    },
    {
     "data": {
      "image/png": "[encoded data removed]",
      "text/plain": [
       "<Figure size 640x480 with 1 Axes>"
      ]
     },
     "metadata": {},
     "output_type": "display_data"
    }
   ],
   "source": [
    "plt.hist(tau, 15, density = True)\n",
    "plt.axvline(x = 28, color = \"red\")"
   ]
  },
  {
   "cell_type": "markdown",
   "metadata": {},
   "source": [
    "# Real data: HDP without structural zeros adjustment"
   ]
  },
  {
   "cell_type": "code",
   "execution_count": 3,
   "metadata": {},
   "outputs": [],
   "source": [
    "n = 5000\n",
    "\n",
    "seed_to_use = 42+n\n",
    "\n",
    "tf.random.set_seed((seed_to_use+n))\n",
    "np.random.seed((seed_to_use+n))\n",
    "\n",
    "K_initial = 100\n",
    "K_max = 2*K_initial\n",
    "\n",
    "a_0, b_0 = 2., 1.\n",
    "a_1, b_1 = 2., 1. \n",
    "a_2, b_2 = 1., 1. \n",
    "sigma = 0.1\n",
    "\n",
    "prior_MCMC = a_0, b_0, a_1, b_1, a_2, b_2, sigma\n",
    "\n",
    "X_ij    = tf.convert_to_tensor(np.load(\"data/structural_zeros/SZ_NY_X_ij_\"+str(n)+\".npy\"), dtype = tf.int32)\n",
    "one_n_j = tf.convert_to_tensor(np.load(\"data/structural_zeros/SZ_NY_one_n_j.npy\"), dtype = tf.float32)\n",
    "\n",
    "batch_size = 100\n",
    "N = 953076\n",
    "\n",
    "MCMC_iterations = 100"
   ]
  },
  {
   "cell_type": "code",
   "execution_count": 5,
   "metadata": {},
   "outputs": [],
   "source": [
    "os.chdir(\"scripts/\")\n",
    "%run -i BNP.py\n",
    "os.chdir(\"../\")"
   ]
  },
  {
   "cell_type": "markdown",
   "metadata": {},
   "source": [
    "It might take more than 5min"
   ]
  },
  {
   "cell_type": "code",
   "execution_count": 6,
   "metadata": {},
   "outputs": [
    {
     "name": "stderr",
     "output_type": "stream",
     "text": [
      "2024-07-30 08:41:06.496430: I tensorflow/tsl/platform/default/subprocess.cc:304] Start cannot spawn child process: No such file or directory\n",
      "2024-07-30 08:41:09.852934: I tensorflow/compiler/xla/service/service.cc:168] XLA service 0xb544b40 initialized for platform CUDA (this does not guarantee that XLA will be used). Devices:\n",
      "2024-07-30 08:41:09.853003: I tensorflow/compiler/xla/service/service.cc:176]   StreamExecutor device (0): NVIDIA GeForce RTX 4070 Laptop GPU, Compute Capability 8.9\n",
      "2024-07-30 08:41:09.887768: I tensorflow/compiler/mlir/tensorflow/utils/dump_mlir_util.cc:269] disabling MLIR crash reproducer, set env var `MLIR_CRASH_REPRODUCER_DIRECTORY` to enable.\n",
      "2024-07-30 08:41:10.017323: I tensorflow/compiler/xla/stream_executor/cuda/cuda_dnn.cc:442] Loaded cuDNN version 8907\n",
      "warning: Linking two modules of different target triples: 'LLVMDialectModule' is 'nvptx64-nvidia-gpulibs' whereas '' is 'nvptx64-nvidia-cuda'\n",
      "\n",
      "2024-07-30 08:41:11.009773: I ./tensorflow/compiler/jit/device_compiler.h:186] Compiled cluster using XLA!  This line is logged at most once for the lifetime of the process.\n",
      "2024-07-30 08:41:26.599693: I tensorflow/compiler/xla/stream_executor/gpu/asm_compiler.cc:328] ptxas warning : Registers are spilled to local memory in function 'fusion_209', 8 bytes spill stores, 8 bytes spill loads\n",
      "\n"
     ]
    },
    {
     "name": "stdout",
     "output_type": "stream",
     "text": [
      "Batch number 0\n",
      "Batch number 1\n",
      "Batch number 2\n",
      "Batch number 3\n",
      "Batch number 4\n",
      "Batch number 5\n",
      "Batch number 6\n",
      "Batch number 7\n",
      "Batch number 8\n",
      "Batch number 9\n",
      "Batch number 10\n",
      "Batch number 11\n",
      "Batch number 12\n",
      "Batch number 13\n",
      "Batch number 14\n",
      "Batch number 15\n",
      "Batch number 16\n",
      "Batch number 17\n",
      "Batch number 18\n",
      "Tau Batch number 0\n",
      "Tau Batch number 1\n",
      "Tau Batch number 2\n",
      "Tau Batch number 3\n",
      "Tau Batch number 4\n"
     ]
    }
   ],
   "source": [
    "seed_MCMC_start, seed_MCMC_after_start  = tfp.random.split_seed( seed_to_use, n=2, salt='seed_MCMC_start_'+str(n))\n",
    "\n",
    "output = BNP_MCMC_from_start(X_ij, one_n_j, K_initial, K_max, prior_MCMC, MCMC_iterations, seed_MCMC_start, \"multiple\", \"fixed a,b\")\n",
    "\n",
    "initialization_MCMC = tuple(elem[-1,...] for elem in output)\n",
    "\n",
    "seed_MCMC_before_tau, seed_MCMC_after_tau  = tfp.random.split_seed( seed_MCMC_after_start, n=2, salt='seed_MCMC_before_after_tau_'+str(n))\n",
    "\n",
    "before_tau_iterations = 19\n",
    "seed_MCMC_before_tau_splitted  = tfp.random.split_seed( seed_MCMC_before_tau, n=before_tau_iterations, salt='seed_MCMC_before_tau_'+str(n))\n",
    "for i in range(before_tau_iterations):\n",
    "\n",
    "    print(\"Batch number \"+str(i))\n",
    "\n",
    "    output = BNP_MCMC_initialized(X_ij, one_n_j, K_max, prior_MCMC, initialization_MCMC, MCMC_iterations, seed_MCMC_before_tau_splitted[i], \"multiple\", \"fixed a,b\")\n",
    "    initialization_MCMC = tuple(elem[-1,...] for elem in output)\n",
    "\n",
    "\n",
    "\n",
    "after_tau_iterations = 5\n",
    "seed_MCMC_after_tau_splitted  = tfp.random.split_seed( seed_MCMC_after_tau, n=after_tau_iterations, salt='seed_MCMC_after_tau_'+str(n))\n",
    "for i in range(after_tau_iterations):\n",
    "    \n",
    "    print(\"Tau Batch number \"+str(i))\n",
    "\n",
    "    tau_output = BNP_MCMC_initialized_tau(X_ij, one_n_j, K_max, prior_MCMC, initialization_MCMC, N, MCMC_iterations, batch_size, seed_MCMC_after_tau_splitted[i], \"multiple\", \"fixed a,b\", \"Monte Carlo\")\n",
    "    initialization_MCMC = tuple(elem[-1,...] for elem in tau_output[0])"
   ]
  },
  {
   "cell_type": "code",
   "execution_count": 8,
   "metadata": {},
   "outputs": [
    {
     "data": {
      "text/plain": [
       "<matplotlib.lines.Line2D at 0x7fcaa01e4790>"
      ]
     },
     "execution_count": 8,
     "metadata": {},
     "output_type": "execute_result"
    },
    {
     "data": {
      "image/png": "[encoded data removed]",
      "text/plain": [
       "<Figure size 640x480 with 1 Axes>"
      ]
     },
     "metadata": {},
     "output_type": "display_data"
    }
   ],
   "source": [
    "plt.hist(tau_output[1], 10, density = True)\n",
    "plt.axvline(x = 64, color = \"red\")"
   ]
  },
  {
   "cell_type": "markdown",
   "metadata": {},
   "source": [
    "# Real data: HDP with structural zeros adjustment"
   ]
  },
  {
   "cell_type": "code",
   "execution_count": 11,
   "metadata": {},
   "outputs": [],
   "source": [
    "seed_to_use = 1234\n",
    "\n",
    "tf.random.set_seed((seed_to_use+n))\n",
    "np.random.seed((seed_to_use+n))\n",
    "\n",
    "K_initial = 50\n",
    "K_max = 4*K_initial\n",
    "\n",
    "a_0, b_0 = 2., 1.\n",
    "a_1, b_1 = 2., 1. \n",
    "a_2, b_2 = 1., 1. \n",
    "sigma = 0.1\n",
    "\n",
    "prior_MCMC = a_0, b_0, a_1, b_1, a_2, b_2, sigma\n",
    "\n",
    "disjoint_constraint = tf.convert_to_tensor(np.load(\"data/structural_zeros/SZ_NY_disjoint_constraint.npy\"), dtype = tf.int32)\n",
    "disjoint_constraints = disjoint_constraint -1 \n",
    "\n",
    "batch_size = 100\n",
    "N = 953076\n",
    "\n",
    "MCMC_iterations = 100\n",
    "\n",
    "seed_MCMC_start, seed_MCMC_after_start  = tfp.random.split_seed( seed_to_use, n=2, salt='seed_MCMC_start_'+str(n))"
   ]
  },
  {
   "cell_type": "code",
   "execution_count": 12,
   "metadata": {},
   "outputs": [],
   "source": [
    "os.chdir(\"scripts/\")\n",
    "%run -i BNP_structural_zeros.py\n",
    "os.chdir(\"../\")"
   ]
  },
  {
   "cell_type": "markdown",
   "metadata": {},
   "source": [
    "It might take more than 10min"
   ]
  },
  {
   "cell_type": "code",
   "execution_count": 13,
   "metadata": {},
   "outputs": [
    {
     "name": "stderr",
     "output_type": "stream",
     "text": [
      "2024-07-30 08:47:51.088172: W tensorflow/compiler/tf2xla/kernels/categorical_op.cc:130] Warning: Using tf.random.categorical with XLA compilation will ignore seeds.\n",
      "warning: Linking two modules of different target triples: 'LLVMDialectModule' is 'nvptx64-nvidia-gpulibs' whereas '' is 'nvptx64-nvidia-cuda'\n",
      "\n"
     ]
    },
    {
     "name": "stdout",
     "output_type": "stream",
     "text": [
      "Batch number 0\n",
      "Batch number 1\n",
      "Batch number 2\n",
      "Batch number 3\n",
      "Batch number 4\n",
      "Batch number 5\n",
      "Batch number 6\n",
      "Batch number 7\n",
      "Batch number 8\n",
      "Batch number 9\n",
      "Batch number 10\n",
      "Batch number 11\n",
      "Batch number 12\n",
      "Batch number 13\n",
      "Batch number 14\n",
      "Batch number 15\n",
      "Batch number 16\n",
      "Batch number 17\n",
      "Batch number 18\n",
      "Tau Batch number 0\n",
      "Tau Batch number 1\n",
      "Tau Batch number 2\n",
      "Tau Batch number 3\n",
      "Tau Batch number 4\n"
     ]
    }
   ],
   "source": [
    "output = SZ_BNP_MCMC_from_start(X_ij, disjoint_constraints, one_n_j, K_initial, K_max, prior_MCMC, MCMC_iterations, seed_MCMC_start, \"multiple\", \"fixed a,b\")\n",
    "initialization_MCMC = tuple(elem[-1,...] for elem in output)\n",
    "\n",
    "seed_MCMC_before_tau, seed_MCMC_after_tau  = tfp.random.split_seed( seed_MCMC_after_start, n=2, salt='seed_MCMC_before_after_tau_'+str(n))\n",
    "\n",
    "before_tau_iterations = 19\n",
    "seed_MCMC_before_tau_splitted  = tfp.random.split_seed( seed_MCMC_before_tau, n=before_tau_iterations, salt='seed_MCMC_before_tau_'+str(n))\n",
    "for i in range(before_tau_iterations):\n",
    "\n",
    "    print(\"Batch number \"+str(i))\n",
    "\n",
    "    output = SZ_BNP_MCMC_initialized(X_ij, disjoint_constraints, one_n_j, K_max, prior_MCMC, initialization_MCMC, MCMC_iterations, seed_MCMC_before_tau_splitted[i], \"multiple\", \"fixed a,b\")\n",
    "    initialization_MCMC = tuple(elem[-1,...] for elem in output)\n",
    "\n",
    "after_tau_iterations = 5\n",
    "seed_MCMC_after_tau_splitted  = tfp.random.split_seed( seed_MCMC_after_tau, n=after_tau_iterations, salt='seed_MCMC_after_tau_'+str(n))\n",
    "for i in range(after_tau_iterations):\n",
    "    \n",
    "    print(\"Tau Batch number \"+str(i))\n",
    "\n",
    "    tau_output = SZ_BNP_MCMC_initialized_tau(X_ij, disjoint_constraints, one_n_j, K_max, prior_MCMC, \n",
    "\t\t\t\t\t  initialization_MCMC, MCMC_iterations, N, batch_size, \n",
    "                \t\t\t  seed_MCMC_after_tau_splitted[i], \"multiple\", \"fixed a,b\", \"Monte Carlo\")\n",
    "    \n",
    "    initialization_MCMC = tuple(elem[-1,...] for elem in tau_output[0])"
   ]
  },
  {
   "cell_type": "code",
   "execution_count": 15,
   "metadata": {},
   "outputs": [
    {
     "data": {
      "text/plain": [
       "<matplotlib.lines.Line2D at 0x7fc97c637f90>"
      ]
     },
     "execution_count": 15,
     "metadata": {},
     "output_type": "execute_result"
    },
    {
     "data": {
      "image/png": "[encoded data removed]",
      "text/plain": [
       "<Figure size 640x480 with 1 Axes>"
      ]
     },
     "metadata": {},
     "output_type": "display_data"
    }
   ],
   "source": [
    "plt.hist(tau_output[1], 8, density = True)\n",
    "plt.axvline(x = 64, color = \"red\")"
   ]
  },
  {
   "cell_type": "markdown",
   "metadata": {},
   "source": [
    "Detailed experiments are provided in the folder _experiments_"
   ]
  },
  {
   "cell_type": "code",
   "execution_count": null,
   "metadata": {},
   "outputs": [],
   "source": []
  },
  {
   "cell_type": "code",
   "execution_count": null,
   "metadata": {},
   "outputs": [],
   "source": []
  }
 ],
 "metadata": {
  "kernelspec": {
   "display_name": "tfwsl",
   "language": "python",
   "name": "python3"
  },
  "language_info": {
   "codemirror_mode": {
    "name": "ipython",
    "version": 3
   },
   "file_extension": ".py",
   "mimetype": "text/x-python",
   "name": "python",
   "nbconvert_exporter": "python",
   "pygments_lexer": "ipython3",
   "version": "3.11.8"
  }
 },
 "nbformat": 4,
 "nbformat_minor": 2
}
